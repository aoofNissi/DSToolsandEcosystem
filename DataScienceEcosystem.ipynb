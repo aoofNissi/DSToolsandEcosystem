{
 "cells": [
  {
   "cell_type": "markdown",
   "id": "c8a15958-e749-441f-ab3b-a35c86a7890e",
   "metadata": {},
   "source": [
    "# Data Science Tools and Ecosystem"
   ]
  },
  {
   "cell_type": "markdown",
   "id": "5d6b110c-e0fe-43db-b6f7-60159bd2bc9b",
   "metadata": {},
   "source": [
    "## In this notebook, Data Science Tools and Ecosystem are summarised"
   ]
  },
  {
   "cell_type": "markdown",
   "id": "380693f9-3c97-44be-bb95-25731a0a114b",
   "metadata": {},
   "source": [
    "**Objectives:**\n",
    "- List popular languages for Data Science\n",
    "- List some of the commonly used libraries for Data Science\n",
    "- List some of the common Data Science tools\n",
    "- Present examples of evaluating arithmetic expressions in Python"
   ]
  },
  {
   "cell_type": "markdown",
   "id": "fc6d5508-520b-4d7e-ad80-423f3624c744",
   "metadata": {},
   "source": [
    "### Some of the popular languages that Data Scientists use are:\n",
    "1. Python\n",
    "2. R\n",
    "3. SQL"
   ]
  },
  {
   "cell_type": "markdown",
   "id": "4556c18f-f843-4168-b8a6-6452bb5a4307",
   "metadata": {},
   "source": [
    "### Some of the commonly used libraries used by Data Scientists include:\n",
    "1. Matplotlib\n",
    "2. Seaborn\n",
    "3. Scikit-learn"
   ]
  },
  {
   "cell_type": "markdown",
   "id": "52e38d29-3639-41ae-89c0-37987a2d9a4c",
   "metadata": {},
   "source": [
    "|Data Science Tools|\n",
    "|------------------|\n",
    "|R Studio          |\n",
    "|Jupyter Notebooks |\n",
    "|Apache Zeppelin   |"
   ]
  },
  {
   "cell_type": "markdown",
   "id": "52716b8a-ab06-42a2-bb6a-8819fea68b2c",
   "metadata": {},
   "source": [
    "### Below are a few examples of evaluating arithmetic expressions in Python"
   ]
  },
  {
   "cell_type": "code",
   "execution_count": 12,
   "id": "0b5714f6-a06c-4b44-9f43-60ec0aa27e2d",
   "metadata": {},
   "outputs": [
    {
     "data": {
      "text/plain": [
       "17"
      ]
     },
     "execution_count": 12,
     "metadata": {},
     "output_type": "execute_result"
    }
   ],
   "source": [
    "## This is a simple arithmetic expression to multiply then add integers\n",
    "(3*4)+5"
   ]
  },
  {
   "cell_type": "code",
   "execution_count": 18,
   "id": "c0e3cd70-3bd5-4a2c-9fb0-fdabb511865f",
   "metadata": {},
   "outputs": [
    {
     "name": "stdout",
     "output_type": "stream",
     "text": [
      "200 minutes converted to hours is:  3.3333333333333335 hours\n"
     ]
    }
   ],
   "source": [
    "## This will convert 200 minutes to hours by dividing by 60\n",
    "\n",
    "print(\"200 minutes converted to hours is: \", 200 / 60, \"hours\")"
   ]
  },
  {
   "cell_type": "markdown",
   "id": "b0af7d0c-07ef-49c4-a211-dfbc8a737e9a",
   "metadata": {},
   "source": [
    "## Author\n",
    "Ayodele"
   ]
  },
  {
   "cell_type": "code",
   "execution_count": null,
   "id": "460beee8-3cc2-4459-9804-76219ea7c07a",
   "metadata": {},
   "outputs": [],
   "source": []
  }
 ],
 "metadata": {
  "kernelspec": {
   "display_name": "anaconda-2024.02-py310",
   "language": "python",
   "name": "conda-env-anaconda-2024.02-py310-py"
  },
  "language_info": {
   "codemirror_mode": {
    "name": "ipython",
    "version": 3
   },
   "file_extension": ".py",
   "mimetype": "text/x-python",
   "name": "python",
   "nbconvert_exporter": "python",
   "pygments_lexer": "ipython3",
   "version": "3.10.14"
  }
 },
 "nbformat": 4,
 "nbformat_minor": 5
}
